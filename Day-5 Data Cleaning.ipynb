{
 "cells": [
  {
   "cell_type": "code",
   "execution_count": 2,
   "id": "6ffad67a",
   "metadata": {},
   "outputs": [],
   "source": [
    "#Programmer :Gaikwad Trupti S.\n",
    "#College:Keystone school engineering pune\n",
    "#Class:TE [A]\n",
    "#Roll no.:19"
   ]
  },
  {
   "cell_type": "code",
   "execution_count": 3,
   "id": "fc1767e6",
   "metadata": {},
   "outputs": [],
   "source": [
    "import pandas as pd\n",
    "import numpy as np\n",
    "import matplotlib.pyplot as plt\n",
    "import seaborn as sns\n"
   ]
  },
  {
   "cell_type": "code",
   "execution_count": 4,
   "id": "7ebb573a",
   "metadata": {},
   "outputs": [],
   "source": [
    "df=pd.read_csv('student3.csv')"
   ]
  },
  {
   "cell_type": "code",
   "execution_count": 5,
   "id": "4cbc99d1",
   "metadata": {},
   "outputs": [
    {
     "data": {
      "text/html": [
       "<div>\n",
       "<style scoped>\n",
       "    .dataframe tbody tr th:only-of-type {\n",
       "        vertical-align: middle;\n",
       "    }\n",
       "\n",
       "    .dataframe tbody tr th {\n",
       "        vertical-align: top;\n",
       "    }\n",
       "\n",
       "    .dataframe thead th {\n",
       "        text-align: right;\n",
       "    }\n",
       "</style>\n",
       "<table border=\"1\" class=\"dataframe\">\n",
       "  <thead>\n",
       "    <tr style=\"text-align: right;\">\n",
       "      <th></th>\n",
       "      <th>roll</th>\n",
       "      <th>name</th>\n",
       "      <th>class</th>\n",
       "      <th>marks</th>\n",
       "      <th>age</th>\n",
       "    </tr>\n",
       "  </thead>\n",
       "  <tbody>\n",
       "    <tr>\n",
       "      <th>0</th>\n",
       "      <td>1</td>\n",
       "      <td>anil</td>\n",
       "      <td>TE</td>\n",
       "      <td>56.77</td>\n",
       "      <td>22.0</td>\n",
       "    </tr>\n",
       "    <tr>\n",
       "      <th>1</th>\n",
       "      <td>2</td>\n",
       "      <td>amit</td>\n",
       "      <td>TE</td>\n",
       "      <td>59.77</td>\n",
       "      <td>21.0</td>\n",
       "    </tr>\n",
       "    <tr>\n",
       "      <th>2</th>\n",
       "      <td>3</td>\n",
       "      <td>aniket</td>\n",
       "      <td>BE</td>\n",
       "      <td>76.88</td>\n",
       "      <td>19.0</td>\n",
       "    </tr>\n",
       "    <tr>\n",
       "      <th>3</th>\n",
       "      <td>4</td>\n",
       "      <td>ajinkya</td>\n",
       "      <td>TE</td>\n",
       "      <td>69.66</td>\n",
       "      <td>20.0</td>\n",
       "    </tr>\n",
       "    <tr>\n",
       "      <th>4</th>\n",
       "      <td>5</td>\n",
       "      <td>asha</td>\n",
       "      <td>TE</td>\n",
       "      <td>63.28</td>\n",
       "      <td>NaN</td>\n",
       "    </tr>\n",
       "    <tr>\n",
       "      <th>5</th>\n",
       "      <td>6</td>\n",
       "      <td>ayesha</td>\n",
       "      <td>BE</td>\n",
       "      <td>NaN</td>\n",
       "      <td>20.0</td>\n",
       "    </tr>\n",
       "    <tr>\n",
       "      <th>6</th>\n",
       "      <td>7</td>\n",
       "      <td>amar</td>\n",
       "      <td>BE</td>\n",
       "      <td>65.34</td>\n",
       "      <td>19.0</td>\n",
       "    </tr>\n",
       "    <tr>\n",
       "      <th>7</th>\n",
       "      <td>8</td>\n",
       "      <td>Amita</td>\n",
       "      <td>be</td>\n",
       "      <td>68.33</td>\n",
       "      <td>23.0</td>\n",
       "    </tr>\n",
       "    <tr>\n",
       "      <th>8</th>\n",
       "      <td>9</td>\n",
       "      <td>amol</td>\n",
       "      <td>TE</td>\n",
       "      <td>56.75</td>\n",
       "      <td>20.0</td>\n",
       "    </tr>\n",
       "    <tr>\n",
       "      <th>9</th>\n",
       "      <td>9</td>\n",
       "      <td>amol</td>\n",
       "      <td>TE</td>\n",
       "      <td>56.75</td>\n",
       "      <td>20.0</td>\n",
       "    </tr>\n",
       "    <tr>\n",
       "      <th>10</th>\n",
       "      <td>10</td>\n",
       "      <td>anmol</td>\n",
       "      <td>BE</td>\n",
       "      <td>78.66</td>\n",
       "      <td>NaN</td>\n",
       "    </tr>\n",
       "    <tr>\n",
       "      <th>11</th>\n",
       "      <td>11</td>\n",
       "      <td>surbhi</td>\n",
       "      <td>TE</td>\n",
       "      <td>NaN</td>\n",
       "      <td>23.0</td>\n",
       "    </tr>\n",
       "    <tr>\n",
       "      <th>12</th>\n",
       "      <td>12</td>\n",
       "      <td>Sujay</td>\n",
       "      <td>TE</td>\n",
       "      <td>74.12</td>\n",
       "      <td>22.0</td>\n",
       "    </tr>\n",
       "    <tr>\n",
       "      <th>13</th>\n",
       "      <td>13</td>\n",
       "      <td>subhash</td>\n",
       "      <td>be</td>\n",
       "      <td>88.45</td>\n",
       "      <td>21.0</td>\n",
       "    </tr>\n",
       "    <tr>\n",
       "      <th>14</th>\n",
       "      <td>14</td>\n",
       "      <td>sachin</td>\n",
       "      <td>NaN</td>\n",
       "      <td>59.33</td>\n",
       "      <td>21.0</td>\n",
       "    </tr>\n",
       "    <tr>\n",
       "      <th>15</th>\n",
       "      <td>15</td>\n",
       "      <td>shalini</td>\n",
       "      <td>TE</td>\n",
       "      <td>63.45</td>\n",
       "      <td>20.0</td>\n",
       "    </tr>\n",
       "  </tbody>\n",
       "</table>\n",
       "</div>"
      ],
      "text/plain": [
       "    roll     name class  marks    age\n",
       "0      1     anil    TE   56.77  22.0\n",
       "1      2     amit    TE   59.77  21.0\n",
       "2      3   aniket    BE   76.88  19.0\n",
       "3      4  ajinkya    TE   69.66  20.0\n",
       "4      5     asha    TE   63.28   NaN\n",
       "5      6   ayesha    BE     NaN  20.0\n",
       "6      7     amar    BE   65.34  19.0\n",
       "7      8    Amita    be   68.33  23.0\n",
       "8      9     amol    TE   56.75  20.0\n",
       "9      9     amol    TE   56.75  20.0\n",
       "10    10    anmol    BE   78.66   NaN\n",
       "11    11   surbhi    TE     NaN  23.0\n",
       "12    12    Sujay    TE   74.12  22.0\n",
       "13    13  subhash    be   88.45  21.0\n",
       "14    14   sachin   NaN   59.33  21.0\n",
       "15    15  shalini    TE   63.45  20.0"
      ]
     },
     "execution_count": 5,
     "metadata": {},
     "output_type": "execute_result"
    }
   ],
   "source": [
    "df"
   ]
  },
  {
   "cell_type": "code",
   "execution_count": 6,
   "id": "0f694acc",
   "metadata": {},
   "outputs": [
    {
     "data": {
      "text/html": [
       "<div>\n",
       "<style scoped>\n",
       "    .dataframe tbody tr th:only-of-type {\n",
       "        vertical-align: middle;\n",
       "    }\n",
       "\n",
       "    .dataframe tbody tr th {\n",
       "        vertical-align: top;\n",
       "    }\n",
       "\n",
       "    .dataframe thead th {\n",
       "        text-align: right;\n",
       "    }\n",
       "</style>\n",
       "<table border=\"1\" class=\"dataframe\">\n",
       "  <thead>\n",
       "    <tr style=\"text-align: right;\">\n",
       "      <th></th>\n",
       "      <th>roll</th>\n",
       "      <th>name</th>\n",
       "      <th>class</th>\n",
       "      <th>marks</th>\n",
       "      <th>age</th>\n",
       "    </tr>\n",
       "  </thead>\n",
       "  <tbody>\n",
       "    <tr>\n",
       "      <th>0</th>\n",
       "      <td>1</td>\n",
       "      <td>anil</td>\n",
       "      <td>TE</td>\n",
       "      <td>56.77</td>\n",
       "      <td>22.0</td>\n",
       "    </tr>\n",
       "    <tr>\n",
       "      <th>1</th>\n",
       "      <td>2</td>\n",
       "      <td>amit</td>\n",
       "      <td>TE</td>\n",
       "      <td>59.77</td>\n",
       "      <td>21.0</td>\n",
       "    </tr>\n",
       "    <tr>\n",
       "      <th>2</th>\n",
       "      <td>3</td>\n",
       "      <td>aniket</td>\n",
       "      <td>BE</td>\n",
       "      <td>76.88</td>\n",
       "      <td>19.0</td>\n",
       "    </tr>\n",
       "    <tr>\n",
       "      <th>3</th>\n",
       "      <td>4</td>\n",
       "      <td>ajinkya</td>\n",
       "      <td>TE</td>\n",
       "      <td>69.66</td>\n",
       "      <td>20.0</td>\n",
       "    </tr>\n",
       "    <tr>\n",
       "      <th>4</th>\n",
       "      <td>5</td>\n",
       "      <td>asha</td>\n",
       "      <td>TE</td>\n",
       "      <td>63.28</td>\n",
       "      <td>NaN</td>\n",
       "    </tr>\n",
       "  </tbody>\n",
       "</table>\n",
       "</div>"
      ],
      "text/plain": [
       "   roll     name class  marks    age\n",
       "0     1     anil    TE   56.77  22.0\n",
       "1     2     amit    TE   59.77  21.0\n",
       "2     3   aniket    BE   76.88  19.0\n",
       "3     4  ajinkya    TE   69.66  20.0\n",
       "4     5     asha    TE   63.28   NaN"
      ]
     },
     "execution_count": 6,
     "metadata": {},
     "output_type": "execute_result"
    }
   ],
   "source": [
    "df.head()"
   ]
  },
  {
   "cell_type": "code",
   "execution_count": 7,
   "id": "3c980de0",
   "metadata": {},
   "outputs": [
    {
     "data": {
      "text/html": [
       "<div>\n",
       "<style scoped>\n",
       "    .dataframe tbody tr th:only-of-type {\n",
       "        vertical-align: middle;\n",
       "    }\n",
       "\n",
       "    .dataframe tbody tr th {\n",
       "        vertical-align: top;\n",
       "    }\n",
       "\n",
       "    .dataframe thead th {\n",
       "        text-align: right;\n",
       "    }\n",
       "</style>\n",
       "<table border=\"1\" class=\"dataframe\">\n",
       "  <thead>\n",
       "    <tr style=\"text-align: right;\">\n",
       "      <th></th>\n",
       "      <th>roll</th>\n",
       "      <th>name</th>\n",
       "      <th>class</th>\n",
       "      <th>marks</th>\n",
       "      <th>age</th>\n",
       "    </tr>\n",
       "  </thead>\n",
       "  <tbody>\n",
       "    <tr>\n",
       "      <th>11</th>\n",
       "      <td>11</td>\n",
       "      <td>surbhi</td>\n",
       "      <td>TE</td>\n",
       "      <td>NaN</td>\n",
       "      <td>23.0</td>\n",
       "    </tr>\n",
       "    <tr>\n",
       "      <th>12</th>\n",
       "      <td>12</td>\n",
       "      <td>Sujay</td>\n",
       "      <td>TE</td>\n",
       "      <td>74.12</td>\n",
       "      <td>22.0</td>\n",
       "    </tr>\n",
       "    <tr>\n",
       "      <th>13</th>\n",
       "      <td>13</td>\n",
       "      <td>subhash</td>\n",
       "      <td>be</td>\n",
       "      <td>88.45</td>\n",
       "      <td>21.0</td>\n",
       "    </tr>\n",
       "    <tr>\n",
       "      <th>14</th>\n",
       "      <td>14</td>\n",
       "      <td>sachin</td>\n",
       "      <td>NaN</td>\n",
       "      <td>59.33</td>\n",
       "      <td>21.0</td>\n",
       "    </tr>\n",
       "    <tr>\n",
       "      <th>15</th>\n",
       "      <td>15</td>\n",
       "      <td>shalini</td>\n",
       "      <td>TE</td>\n",
       "      <td>63.45</td>\n",
       "      <td>20.0</td>\n",
       "    </tr>\n",
       "  </tbody>\n",
       "</table>\n",
       "</div>"
      ],
      "text/plain": [
       "    roll     name class  marks    age\n",
       "11    11   surbhi    TE     NaN  23.0\n",
       "12    12    Sujay    TE   74.12  22.0\n",
       "13    13  subhash    be   88.45  21.0\n",
       "14    14   sachin   NaN   59.33  21.0\n",
       "15    15  shalini    TE   63.45  20.0"
      ]
     },
     "execution_count": 7,
     "metadata": {},
     "output_type": "execute_result"
    }
   ],
   "source": [
    "df.tail()"
   ]
  },
  {
   "cell_type": "code",
   "execution_count": 8,
   "id": "e56b6606",
   "metadata": {},
   "outputs": [
    {
     "data": {
      "text/plain": [
       "20.785714285714285"
      ]
     },
     "execution_count": 8,
     "metadata": {},
     "output_type": "execute_result"
    }
   ],
   "source": [
    "df['age'].mean()"
   ]
  },
  {
   "cell_type": "code",
   "execution_count": 9,
   "id": "080a504d",
   "metadata": {},
   "outputs": [
    {
     "data": {
      "text/plain": [
       "66.96714285714286"
      ]
     },
     "execution_count": 9,
     "metadata": {},
     "output_type": "execute_result"
    }
   ],
   "source": [
    "df['marks '].mean()"
   ]
  },
  {
   "cell_type": "code",
   "execution_count": 10,
   "id": "dd00d5eb",
   "metadata": {},
   "outputs": [
    {
     "data": {
      "text/plain": [
       "Index(['roll', 'name', 'class', 'marks ', 'age'], dtype='object')"
      ]
     },
     "execution_count": 10,
     "metadata": {},
     "output_type": "execute_result"
    }
   ],
   "source": [
    "df.columns"
   ]
  },
  {
   "cell_type": "code",
   "execution_count": 11,
   "id": "5193ff81",
   "metadata": {},
   "outputs": [
    {
     "data": {
      "text/plain": [
       "Index(['roll', 'name', 'class', 'marks', 'age'], dtype='object')"
      ]
     },
     "execution_count": 11,
     "metadata": {},
     "output_type": "execute_result"
    }
   ],
   "source": [
    "df.columns.str.strip()"
   ]
  },
  {
   "cell_type": "code",
   "execution_count": 12,
   "id": "18e46722",
   "metadata": {},
   "outputs": [],
   "source": [
    "df.columns=df.columns.str.strip()"
   ]
  },
  {
   "cell_type": "code",
   "execution_count": 13,
   "id": "7abb4a5f",
   "metadata": {},
   "outputs": [
    {
     "data": {
      "text/plain": [
       "66.96714285714286"
      ]
     },
     "execution_count": 13,
     "metadata": {},
     "output_type": "execute_result"
    }
   ],
   "source": [
    "df['marks'].mean()"
   ]
  },
  {
   "cell_type": "code",
   "execution_count": null,
   "id": "e07031d3",
   "metadata": {},
   "outputs": [],
   "source": []
  },
  {
   "cell_type": "code",
   "execution_count": 28,
   "id": "5d46c6fd",
   "metadata": {},
   "outputs": [
    {
     "name": "stdout",
     "output_type": "stream",
     "text": [
      "<class 'pandas.core.frame.DataFrame'>\n",
      "Int64Index: 15 entries, 0 to 15\n",
      "Data columns (total 5 columns):\n",
      " #   Column  Non-Null Count  Dtype  \n",
      "---  ------  --------------  -----  \n",
      " 0   roll    15 non-null     int64  \n",
      " 1   name    15 non-null     object \n",
      " 2   class   14 non-null     object \n",
      " 3   marks   13 non-null     float64\n",
      " 4   age     13 non-null     float64\n",
      "dtypes: float64(2), int64(1), object(2)\n",
      "memory usage: 720.0+ bytes\n"
     ]
    }
   ],
   "source": [
    "df.info()"
   ]
  },
  {
   "cell_type": "code",
   "execution_count": 16,
   "id": "ec2e7852",
   "metadata": {},
   "outputs": [],
   "source": [
    "df.columns=df.columns.str.strip()"
   ]
  },
  {
   "cell_type": "code",
   "execution_count": 17,
   "id": "b57ddb25",
   "metadata": {},
   "outputs": [
    {
     "data": {
      "text/plain": [
       "66.96714285714286"
      ]
     },
     "execution_count": 17,
     "metadata": {},
     "output_type": "execute_result"
    }
   ],
   "source": [
    "df['marks'].mean()"
   ]
  },
  {
   "cell_type": "code",
   "execution_count": 18,
   "id": "d1f6b941",
   "metadata": {},
   "outputs": [],
   "source": [
    "df['class']=df['class'].str.upper()"
   ]
  },
  {
   "cell_type": "code",
   "execution_count": 14,
   "id": "b5d5d6da",
   "metadata": {},
   "outputs": [
    {
     "data": {
      "text/plain": [
       "TE    9\n",
       "BE    4\n",
       "be    2\n",
       "Name: class, dtype: int64"
      ]
     },
     "execution_count": 14,
     "metadata": {},
     "output_type": "execute_result"
    }
   ],
   "source": [
    "#find the total number of student presents in respective classes\n",
    "df['class'].value_counts()"
   ]
  },
  {
   "cell_type": "code",
   "execution_count": 15,
   "id": "25d2b6c6",
   "metadata": {},
   "outputs": [
    {
     "data": {
      "text/html": [
       "<div>\n",
       "<style scoped>\n",
       "    .dataframe tbody tr th:only-of-type {\n",
       "        vertical-align: middle;\n",
       "    }\n",
       "\n",
       "    .dataframe tbody tr th {\n",
       "        vertical-align: top;\n",
       "    }\n",
       "\n",
       "    .dataframe thead th {\n",
       "        text-align: right;\n",
       "    }\n",
       "</style>\n",
       "<table border=\"1\" class=\"dataframe\">\n",
       "  <thead>\n",
       "    <tr style=\"text-align: right;\">\n",
       "      <th></th>\n",
       "      <th>roll</th>\n",
       "      <th>name</th>\n",
       "      <th>class</th>\n",
       "      <th>marks</th>\n",
       "      <th>age</th>\n",
       "    </tr>\n",
       "  </thead>\n",
       "  <tbody>\n",
       "    <tr>\n",
       "      <th>0</th>\n",
       "      <td>1</td>\n",
       "      <td>Anil</td>\n",
       "      <td>TE</td>\n",
       "      <td>56.77</td>\n",
       "      <td>22.0</td>\n",
       "    </tr>\n",
       "    <tr>\n",
       "      <th>1</th>\n",
       "      <td>2</td>\n",
       "      <td>Amit</td>\n",
       "      <td>TE</td>\n",
       "      <td>59.77</td>\n",
       "      <td>21.0</td>\n",
       "    </tr>\n",
       "    <tr>\n",
       "      <th>2</th>\n",
       "      <td>3</td>\n",
       "      <td>Aniket</td>\n",
       "      <td>BE</td>\n",
       "      <td>76.88</td>\n",
       "      <td>19.0</td>\n",
       "    </tr>\n",
       "    <tr>\n",
       "      <th>3</th>\n",
       "      <td>4</td>\n",
       "      <td>Ajinkya</td>\n",
       "      <td>TE</td>\n",
       "      <td>69.66</td>\n",
       "      <td>20.0</td>\n",
       "    </tr>\n",
       "    <tr>\n",
       "      <th>4</th>\n",
       "      <td>5</td>\n",
       "      <td>Asha</td>\n",
       "      <td>TE</td>\n",
       "      <td>63.28</td>\n",
       "      <td>NaN</td>\n",
       "    </tr>\n",
       "    <tr>\n",
       "      <th>5</th>\n",
       "      <td>6</td>\n",
       "      <td>Ayesha</td>\n",
       "      <td>BE</td>\n",
       "      <td>NaN</td>\n",
       "      <td>20.0</td>\n",
       "    </tr>\n",
       "    <tr>\n",
       "      <th>6</th>\n",
       "      <td>7</td>\n",
       "      <td>Amar</td>\n",
       "      <td>BE</td>\n",
       "      <td>65.34</td>\n",
       "      <td>19.0</td>\n",
       "    </tr>\n",
       "    <tr>\n",
       "      <th>7</th>\n",
       "      <td>8</td>\n",
       "      <td>Amita</td>\n",
       "      <td>be</td>\n",
       "      <td>68.33</td>\n",
       "      <td>23.0</td>\n",
       "    </tr>\n",
       "    <tr>\n",
       "      <th>8</th>\n",
       "      <td>9</td>\n",
       "      <td>Amol</td>\n",
       "      <td>TE</td>\n",
       "      <td>56.75</td>\n",
       "      <td>20.0</td>\n",
       "    </tr>\n",
       "    <tr>\n",
       "      <th>9</th>\n",
       "      <td>9</td>\n",
       "      <td>Amol</td>\n",
       "      <td>TE</td>\n",
       "      <td>56.75</td>\n",
       "      <td>20.0</td>\n",
       "    </tr>\n",
       "    <tr>\n",
       "      <th>10</th>\n",
       "      <td>10</td>\n",
       "      <td>Anmol</td>\n",
       "      <td>BE</td>\n",
       "      <td>78.66</td>\n",
       "      <td>NaN</td>\n",
       "    </tr>\n",
       "    <tr>\n",
       "      <th>11</th>\n",
       "      <td>11</td>\n",
       "      <td>Surbhi</td>\n",
       "      <td>TE</td>\n",
       "      <td>NaN</td>\n",
       "      <td>23.0</td>\n",
       "    </tr>\n",
       "    <tr>\n",
       "      <th>12</th>\n",
       "      <td>12</td>\n",
       "      <td>Sujay</td>\n",
       "      <td>TE</td>\n",
       "      <td>74.12</td>\n",
       "      <td>22.0</td>\n",
       "    </tr>\n",
       "    <tr>\n",
       "      <th>13</th>\n",
       "      <td>13</td>\n",
       "      <td>Subhash</td>\n",
       "      <td>be</td>\n",
       "      <td>88.45</td>\n",
       "      <td>21.0</td>\n",
       "    </tr>\n",
       "    <tr>\n",
       "      <th>14</th>\n",
       "      <td>14</td>\n",
       "      <td>Sachin</td>\n",
       "      <td>NaN</td>\n",
       "      <td>59.33</td>\n",
       "      <td>21.0</td>\n",
       "    </tr>\n",
       "    <tr>\n",
       "      <th>15</th>\n",
       "      <td>15</td>\n",
       "      <td>Shalini</td>\n",
       "      <td>TE</td>\n",
       "      <td>63.45</td>\n",
       "      <td>20.0</td>\n",
       "    </tr>\n",
       "  </tbody>\n",
       "</table>\n",
       "</div>"
      ],
      "text/plain": [
       "    roll     name class  marks   age\n",
       "0      1     Anil    TE  56.77  22.0\n",
       "1      2     Amit    TE  59.77  21.0\n",
       "2      3   Aniket    BE  76.88  19.0\n",
       "3      4  Ajinkya    TE  69.66  20.0\n",
       "4      5     Asha    TE  63.28   NaN\n",
       "5      6   Ayesha    BE    NaN  20.0\n",
       "6      7     Amar    BE  65.34  19.0\n",
       "7      8    Amita    be  68.33  23.0\n",
       "8      9     Amol    TE  56.75  20.0\n",
       "9      9     Amol    TE  56.75  20.0\n",
       "10    10    Anmol    BE  78.66   NaN\n",
       "11    11   Surbhi    TE    NaN  23.0\n",
       "12    12    Sujay    TE  74.12  22.0\n",
       "13    13  Subhash    be  88.45  21.0\n",
       "14    14   Sachin   NaN  59.33  21.0\n",
       "15    15  Shalini    TE  63.45  20.0"
      ]
     },
     "execution_count": 15,
     "metadata": {},
     "output_type": "execute_result"
    }
   ],
   "source": [
    "df.name=df.name.str.title()\n",
    "df"
   ]
  },
  {
   "cell_type": "code",
   "execution_count": 16,
   "id": "1444eb59",
   "metadata": {},
   "outputs": [
    {
     "data": {
      "text/html": [
       "<div>\n",
       "<style scoped>\n",
       "    .dataframe tbody tr th:only-of-type {\n",
       "        vertical-align: middle;\n",
       "    }\n",
       "\n",
       "    .dataframe tbody tr th {\n",
       "        vertical-align: top;\n",
       "    }\n",
       "\n",
       "    .dataframe thead th {\n",
       "        text-align: right;\n",
       "    }\n",
       "</style>\n",
       "<table border=\"1\" class=\"dataframe\">\n",
       "  <thead>\n",
       "    <tr style=\"text-align: right;\">\n",
       "      <th></th>\n",
       "      <th>roll</th>\n",
       "      <th>marks</th>\n",
       "      <th>age</th>\n",
       "    </tr>\n",
       "  </thead>\n",
       "  <tbody>\n",
       "    <tr>\n",
       "      <th>count</th>\n",
       "      <td>16.000000</td>\n",
       "      <td>14.000000</td>\n",
       "      <td>14.000000</td>\n",
       "    </tr>\n",
       "    <tr>\n",
       "      <th>mean</th>\n",
       "      <td>8.062500</td>\n",
       "      <td>66.967143</td>\n",
       "      <td>20.785714</td>\n",
       "    </tr>\n",
       "    <tr>\n",
       "      <th>std</th>\n",
       "      <td>4.327721</td>\n",
       "      <td>9.640749</td>\n",
       "      <td>1.311404</td>\n",
       "    </tr>\n",
       "    <tr>\n",
       "      <th>min</th>\n",
       "      <td>1.000000</td>\n",
       "      <td>56.750000</td>\n",
       "      <td>19.000000</td>\n",
       "    </tr>\n",
       "    <tr>\n",
       "      <th>25%</th>\n",
       "      <td>4.750000</td>\n",
       "      <td>59.440000</td>\n",
       "      <td>20.000000</td>\n",
       "    </tr>\n",
       "    <tr>\n",
       "      <th>50%</th>\n",
       "      <td>8.500000</td>\n",
       "      <td>64.395000</td>\n",
       "      <td>20.500000</td>\n",
       "    </tr>\n",
       "    <tr>\n",
       "      <th>75%</th>\n",
       "      <td>11.250000</td>\n",
       "      <td>73.005000</td>\n",
       "      <td>21.750000</td>\n",
       "    </tr>\n",
       "    <tr>\n",
       "      <th>max</th>\n",
       "      <td>15.000000</td>\n",
       "      <td>88.450000</td>\n",
       "      <td>23.000000</td>\n",
       "    </tr>\n",
       "  </tbody>\n",
       "</table>\n",
       "</div>"
      ],
      "text/plain": [
       "            roll      marks        age\n",
       "count  16.000000  14.000000  14.000000\n",
       "mean    8.062500  66.967143  20.785714\n",
       "std     4.327721   9.640749   1.311404\n",
       "min     1.000000  56.750000  19.000000\n",
       "25%     4.750000  59.440000  20.000000\n",
       "50%     8.500000  64.395000  20.500000\n",
       "75%    11.250000  73.005000  21.750000\n",
       "max    15.000000  88.450000  23.000000"
      ]
     },
     "execution_count": 16,
     "metadata": {},
     "output_type": "execute_result"
    }
   ],
   "source": [
    "df.describe()"
   ]
  },
  {
   "cell_type": "code",
   "execution_count": 17,
   "id": "64a7181d",
   "metadata": {},
   "outputs": [
    {
     "data": {
      "text/plain": [
       "0     False\n",
       "1     False\n",
       "2     False\n",
       "3     False\n",
       "4     False\n",
       "5     False\n",
       "6     False\n",
       "7     False\n",
       "8     False\n",
       "9      True\n",
       "10    False\n",
       "11    False\n",
       "12    False\n",
       "13    False\n",
       "14    False\n",
       "15    False\n",
       "dtype: bool"
      ]
     },
     "execution_count": 17,
     "metadata": {},
     "output_type": "execute_result"
    }
   ],
   "source": [
    "df.duplicated()"
   ]
  },
  {
   "cell_type": "code",
   "execution_count": 18,
   "id": "f0b47da0",
   "metadata": {},
   "outputs": [
    {
     "data": {
      "text/plain": [
       "1"
      ]
     },
     "execution_count": 18,
     "metadata": {},
     "output_type": "execute_result"
    }
   ],
   "source": [
    "sum(df.duplicated())"
   ]
  },
  {
   "cell_type": "code",
   "execution_count": 19,
   "id": "f52ae2c6",
   "metadata": {},
   "outputs": [],
   "source": [
    "df.drop_duplicates(inplace=True)"
   ]
  },
  {
   "cell_type": "code",
   "execution_count": 20,
   "id": "ed8786a0",
   "metadata": {},
   "outputs": [
    {
     "data": {
      "text/plain": [
       "0     False\n",
       "1     False\n",
       "2     False\n",
       "3     False\n",
       "4     False\n",
       "5     False\n",
       "6     False\n",
       "7     False\n",
       "8     False\n",
       "10    False\n",
       "11    False\n",
       "12    False\n",
       "13    False\n",
       "14    False\n",
       "15    False\n",
       "dtype: bool"
      ]
     },
     "execution_count": 20,
     "metadata": {},
     "output_type": "execute_result"
    }
   ],
   "source": [
    "df.duplicated()"
   ]
  },
  {
   "cell_type": "code",
   "execution_count": 21,
   "id": "2f161e72",
   "metadata": {},
   "outputs": [
    {
     "data": {
      "text/html": [
       "<div>\n",
       "<style scoped>\n",
       "    .dataframe tbody tr th:only-of-type {\n",
       "        vertical-align: middle;\n",
       "    }\n",
       "\n",
       "    .dataframe tbody tr th {\n",
       "        vertical-align: top;\n",
       "    }\n",
       "\n",
       "    .dataframe thead th {\n",
       "        text-align: right;\n",
       "    }\n",
       "</style>\n",
       "<table border=\"1\" class=\"dataframe\">\n",
       "  <thead>\n",
       "    <tr style=\"text-align: right;\">\n",
       "      <th></th>\n",
       "      <th>roll</th>\n",
       "      <th>name</th>\n",
       "      <th>class</th>\n",
       "      <th>marks</th>\n",
       "      <th>age</th>\n",
       "    </tr>\n",
       "  </thead>\n",
       "  <tbody>\n",
       "    <tr>\n",
       "      <th>0</th>\n",
       "      <td>1</td>\n",
       "      <td>Anil</td>\n",
       "      <td>TE</td>\n",
       "      <td>56.77</td>\n",
       "      <td>22.0</td>\n",
       "    </tr>\n",
       "    <tr>\n",
       "      <th>1</th>\n",
       "      <td>2</td>\n",
       "      <td>Amit</td>\n",
       "      <td>TE</td>\n",
       "      <td>59.77</td>\n",
       "      <td>21.0</td>\n",
       "    </tr>\n",
       "    <tr>\n",
       "      <th>2</th>\n",
       "      <td>3</td>\n",
       "      <td>Aniket</td>\n",
       "      <td>BE</td>\n",
       "      <td>76.88</td>\n",
       "      <td>19.0</td>\n",
       "    </tr>\n",
       "    <tr>\n",
       "      <th>3</th>\n",
       "      <td>4</td>\n",
       "      <td>Ajinkya</td>\n",
       "      <td>TE</td>\n",
       "      <td>69.66</td>\n",
       "      <td>20.0</td>\n",
       "    </tr>\n",
       "    <tr>\n",
       "      <th>4</th>\n",
       "      <td>5</td>\n",
       "      <td>Asha</td>\n",
       "      <td>TE</td>\n",
       "      <td>63.28</td>\n",
       "      <td>NaN</td>\n",
       "    </tr>\n",
       "    <tr>\n",
       "      <th>5</th>\n",
       "      <td>6</td>\n",
       "      <td>Ayesha</td>\n",
       "      <td>BE</td>\n",
       "      <td>NaN</td>\n",
       "      <td>20.0</td>\n",
       "    </tr>\n",
       "    <tr>\n",
       "      <th>6</th>\n",
       "      <td>7</td>\n",
       "      <td>Amar</td>\n",
       "      <td>BE</td>\n",
       "      <td>65.34</td>\n",
       "      <td>19.0</td>\n",
       "    </tr>\n",
       "    <tr>\n",
       "      <th>7</th>\n",
       "      <td>8</td>\n",
       "      <td>Amita</td>\n",
       "      <td>be</td>\n",
       "      <td>68.33</td>\n",
       "      <td>23.0</td>\n",
       "    </tr>\n",
       "    <tr>\n",
       "      <th>8</th>\n",
       "      <td>9</td>\n",
       "      <td>Amol</td>\n",
       "      <td>TE</td>\n",
       "      <td>56.75</td>\n",
       "      <td>20.0</td>\n",
       "    </tr>\n",
       "    <tr>\n",
       "      <th>10</th>\n",
       "      <td>10</td>\n",
       "      <td>Anmol</td>\n",
       "      <td>BE</td>\n",
       "      <td>78.66</td>\n",
       "      <td>NaN</td>\n",
       "    </tr>\n",
       "    <tr>\n",
       "      <th>11</th>\n",
       "      <td>11</td>\n",
       "      <td>Surbhi</td>\n",
       "      <td>TE</td>\n",
       "      <td>NaN</td>\n",
       "      <td>23.0</td>\n",
       "    </tr>\n",
       "    <tr>\n",
       "      <th>12</th>\n",
       "      <td>12</td>\n",
       "      <td>Sujay</td>\n",
       "      <td>TE</td>\n",
       "      <td>74.12</td>\n",
       "      <td>22.0</td>\n",
       "    </tr>\n",
       "    <tr>\n",
       "      <th>13</th>\n",
       "      <td>13</td>\n",
       "      <td>Subhash</td>\n",
       "      <td>be</td>\n",
       "      <td>88.45</td>\n",
       "      <td>21.0</td>\n",
       "    </tr>\n",
       "    <tr>\n",
       "      <th>14</th>\n",
       "      <td>14</td>\n",
       "      <td>Sachin</td>\n",
       "      <td>NaN</td>\n",
       "      <td>59.33</td>\n",
       "      <td>21.0</td>\n",
       "    </tr>\n",
       "    <tr>\n",
       "      <th>15</th>\n",
       "      <td>15</td>\n",
       "      <td>Shalini</td>\n",
       "      <td>TE</td>\n",
       "      <td>63.45</td>\n",
       "      <td>20.0</td>\n",
       "    </tr>\n",
       "  </tbody>\n",
       "</table>\n",
       "</div>"
      ],
      "text/plain": [
       "    roll     name class  marks   age\n",
       "0      1     Anil    TE  56.77  22.0\n",
       "1      2     Amit    TE  59.77  21.0\n",
       "2      3   Aniket    BE  76.88  19.0\n",
       "3      4  Ajinkya    TE  69.66  20.0\n",
       "4      5     Asha    TE  63.28   NaN\n",
       "5      6   Ayesha    BE    NaN  20.0\n",
       "6      7     Amar    BE  65.34  19.0\n",
       "7      8    Amita    be  68.33  23.0\n",
       "8      9     Amol    TE  56.75  20.0\n",
       "10    10    Anmol    BE  78.66   NaN\n",
       "11    11   Surbhi    TE    NaN  23.0\n",
       "12    12    Sujay    TE  74.12  22.0\n",
       "13    13  Subhash    be  88.45  21.0\n",
       "14    14   Sachin   NaN  59.33  21.0\n",
       "15    15  Shalini    TE  63.45  20.0"
      ]
     },
     "execution_count": 21,
     "metadata": {},
     "output_type": "execute_result"
    }
   ],
   "source": [
    "df"
   ]
  },
  {
   "cell_type": "code",
   "execution_count": 22,
   "id": "f9733a96",
   "metadata": {},
   "outputs": [
    {
     "data": {
      "text/plain": [
       "roll     15\n",
       "name     15\n",
       "class    14\n",
       "marks    13\n",
       "age      13\n",
       "dtype: int64"
      ]
     },
     "execution_count": 22,
     "metadata": {},
     "output_type": "execute_result"
    }
   ],
   "source": [
    "df.count()"
   ]
  },
  {
   "cell_type": "code",
   "execution_count": 23,
   "id": "d6ea8530",
   "metadata": {},
   "outputs": [
    {
     "data": {
      "text/html": [
       "<div>\n",
       "<style scoped>\n",
       "    .dataframe tbody tr th:only-of-type {\n",
       "        vertical-align: middle;\n",
       "    }\n",
       "\n",
       "    .dataframe tbody tr th {\n",
       "        vertical-align: top;\n",
       "    }\n",
       "\n",
       "    .dataframe thead th {\n",
       "        text-align: right;\n",
       "    }\n",
       "</style>\n",
       "<table border=\"1\" class=\"dataframe\">\n",
       "  <thead>\n",
       "    <tr style=\"text-align: right;\">\n",
       "      <th></th>\n",
       "      <th>roll</th>\n",
       "      <th>name</th>\n",
       "      <th>class</th>\n",
       "      <th>marks</th>\n",
       "      <th>age</th>\n",
       "    </tr>\n",
       "  </thead>\n",
       "  <tbody>\n",
       "    <tr>\n",
       "      <th>0</th>\n",
       "      <td>False</td>\n",
       "      <td>False</td>\n",
       "      <td>False</td>\n",
       "      <td>False</td>\n",
       "      <td>False</td>\n",
       "    </tr>\n",
       "    <tr>\n",
       "      <th>1</th>\n",
       "      <td>False</td>\n",
       "      <td>False</td>\n",
       "      <td>False</td>\n",
       "      <td>False</td>\n",
       "      <td>False</td>\n",
       "    </tr>\n",
       "    <tr>\n",
       "      <th>2</th>\n",
       "      <td>False</td>\n",
       "      <td>False</td>\n",
       "      <td>False</td>\n",
       "      <td>False</td>\n",
       "      <td>False</td>\n",
       "    </tr>\n",
       "    <tr>\n",
       "      <th>3</th>\n",
       "      <td>False</td>\n",
       "      <td>False</td>\n",
       "      <td>False</td>\n",
       "      <td>False</td>\n",
       "      <td>False</td>\n",
       "    </tr>\n",
       "    <tr>\n",
       "      <th>4</th>\n",
       "      <td>False</td>\n",
       "      <td>False</td>\n",
       "      <td>False</td>\n",
       "      <td>False</td>\n",
       "      <td>True</td>\n",
       "    </tr>\n",
       "    <tr>\n",
       "      <th>5</th>\n",
       "      <td>False</td>\n",
       "      <td>False</td>\n",
       "      <td>False</td>\n",
       "      <td>True</td>\n",
       "      <td>False</td>\n",
       "    </tr>\n",
       "    <tr>\n",
       "      <th>6</th>\n",
       "      <td>False</td>\n",
       "      <td>False</td>\n",
       "      <td>False</td>\n",
       "      <td>False</td>\n",
       "      <td>False</td>\n",
       "    </tr>\n",
       "    <tr>\n",
       "      <th>7</th>\n",
       "      <td>False</td>\n",
       "      <td>False</td>\n",
       "      <td>False</td>\n",
       "      <td>False</td>\n",
       "      <td>False</td>\n",
       "    </tr>\n",
       "    <tr>\n",
       "      <th>8</th>\n",
       "      <td>False</td>\n",
       "      <td>False</td>\n",
       "      <td>False</td>\n",
       "      <td>False</td>\n",
       "      <td>False</td>\n",
       "    </tr>\n",
       "    <tr>\n",
       "      <th>10</th>\n",
       "      <td>False</td>\n",
       "      <td>False</td>\n",
       "      <td>False</td>\n",
       "      <td>False</td>\n",
       "      <td>True</td>\n",
       "    </tr>\n",
       "    <tr>\n",
       "      <th>11</th>\n",
       "      <td>False</td>\n",
       "      <td>False</td>\n",
       "      <td>False</td>\n",
       "      <td>True</td>\n",
       "      <td>False</td>\n",
       "    </tr>\n",
       "    <tr>\n",
       "      <th>12</th>\n",
       "      <td>False</td>\n",
       "      <td>False</td>\n",
       "      <td>False</td>\n",
       "      <td>False</td>\n",
       "      <td>False</td>\n",
       "    </tr>\n",
       "    <tr>\n",
       "      <th>13</th>\n",
       "      <td>False</td>\n",
       "      <td>False</td>\n",
       "      <td>False</td>\n",
       "      <td>False</td>\n",
       "      <td>False</td>\n",
       "    </tr>\n",
       "    <tr>\n",
       "      <th>14</th>\n",
       "      <td>False</td>\n",
       "      <td>False</td>\n",
       "      <td>True</td>\n",
       "      <td>False</td>\n",
       "      <td>False</td>\n",
       "    </tr>\n",
       "    <tr>\n",
       "      <th>15</th>\n",
       "      <td>False</td>\n",
       "      <td>False</td>\n",
       "      <td>False</td>\n",
       "      <td>False</td>\n",
       "      <td>False</td>\n",
       "    </tr>\n",
       "  </tbody>\n",
       "</table>\n",
       "</div>"
      ],
      "text/plain": [
       "     roll   name  class  marks    age\n",
       "0   False  False  False  False  False\n",
       "1   False  False  False  False  False\n",
       "2   False  False  False  False  False\n",
       "3   False  False  False  False  False\n",
       "4   False  False  False  False   True\n",
       "5   False  False  False   True  False\n",
       "6   False  False  False  False  False\n",
       "7   False  False  False  False  False\n",
       "8   False  False  False  False  False\n",
       "10  False  False  False  False   True\n",
       "11  False  False  False   True  False\n",
       "12  False  False  False  False  False\n",
       "13  False  False  False  False  False\n",
       "14  False  False   True  False  False\n",
       "15  False  False  False  False  False"
      ]
     },
     "execution_count": 23,
     "metadata": {},
     "output_type": "execute_result"
    }
   ],
   "source": [
    "df.isnull()"
   ]
  },
  {
   "cell_type": "code",
   "execution_count": 24,
   "id": "0de7ff91",
   "metadata": {},
   "outputs": [
    {
     "data": {
      "text/plain": [
       "roll     0\n",
       "name     0\n",
       "class    1\n",
       "marks    2\n",
       "age      2\n",
       "dtype: int64"
      ]
     },
     "execution_count": 24,
     "metadata": {},
     "output_type": "execute_result"
    }
   ],
   "source": [
    "df.isnull().sum()"
   ]
  },
  {
   "cell_type": "code",
   "execution_count": 25,
   "id": "5f73f254",
   "metadata": {},
   "outputs": [
    {
     "data": {
      "text/plain": [
       "0"
      ]
     },
     "execution_count": 25,
     "metadata": {},
     "output_type": "execute_result"
    }
   ],
   "source": [
    "False + False"
   ]
  },
  {
   "cell_type": "code",
   "execution_count": 26,
   "id": "4a37d96f",
   "metadata": {},
   "outputs": [
    {
     "data": {
      "text/plain": [
       "1"
      ]
     },
     "execution_count": 26,
     "metadata": {},
     "output_type": "execute_result"
    }
   ],
   "source": [
    "False + True"
   ]
  },
  {
   "cell_type": "code",
   "execution_count": 27,
   "id": "0d6adbcf",
   "metadata": {},
   "outputs": [
    {
     "data": {
      "text/plain": [
       "2"
      ]
     },
     "execution_count": 27,
     "metadata": {},
     "output_type": "execute_result"
    }
   ],
   "source": [
    "True +True"
   ]
  },
  {
   "cell_type": "code",
   "execution_count": 28,
   "id": "eec1d2bf",
   "metadata": {},
   "outputs": [
    {
     "data": {
      "text/plain": [
       "0     0\n",
       "1     0\n",
       "2     0\n",
       "3     0\n",
       "4     1\n",
       "5     1\n",
       "6     0\n",
       "7     0\n",
       "8     0\n",
       "10    1\n",
       "11    1\n",
       "12    0\n",
       "13    0\n",
       "14    1\n",
       "15    0\n",
       "dtype: int64"
      ]
     },
     "execution_count": 28,
     "metadata": {},
     "output_type": "execute_result"
    }
   ],
   "source": [
    "df.isnull().sum(axis=1)"
   ]
  },
  {
   "cell_type": "code",
   "execution_count": 29,
   "id": "42f87a7c",
   "metadata": {},
   "outputs": [
    {
     "data": {
      "text/html": [
       "<div>\n",
       "<style scoped>\n",
       "    .dataframe tbody tr th:only-of-type {\n",
       "        vertical-align: middle;\n",
       "    }\n",
       "\n",
       "    .dataframe tbody tr th {\n",
       "        vertical-align: top;\n",
       "    }\n",
       "\n",
       "    .dataframe thead th {\n",
       "        text-align: right;\n",
       "    }\n",
       "</style>\n",
       "<table border=\"1\" class=\"dataframe\">\n",
       "  <thead>\n",
       "    <tr style=\"text-align: right;\">\n",
       "      <th></th>\n",
       "      <th>roll</th>\n",
       "      <th>name</th>\n",
       "      <th>class</th>\n",
       "      <th>marks</th>\n",
       "      <th>age</th>\n",
       "    </tr>\n",
       "  </thead>\n",
       "  <tbody>\n",
       "    <tr>\n",
       "      <th>0</th>\n",
       "      <td>1</td>\n",
       "      <td>Anil</td>\n",
       "      <td>TE</td>\n",
       "      <td>56.77</td>\n",
       "      <td>22.0</td>\n",
       "    </tr>\n",
       "    <tr>\n",
       "      <th>1</th>\n",
       "      <td>2</td>\n",
       "      <td>Amit</td>\n",
       "      <td>TE</td>\n",
       "      <td>59.77</td>\n",
       "      <td>21.0</td>\n",
       "    </tr>\n",
       "    <tr>\n",
       "      <th>2</th>\n",
       "      <td>3</td>\n",
       "      <td>Aniket</td>\n",
       "      <td>BE</td>\n",
       "      <td>76.88</td>\n",
       "      <td>19.0</td>\n",
       "    </tr>\n",
       "    <tr>\n",
       "      <th>3</th>\n",
       "      <td>4</td>\n",
       "      <td>Ajinkya</td>\n",
       "      <td>TE</td>\n",
       "      <td>69.66</td>\n",
       "      <td>20.0</td>\n",
       "    </tr>\n",
       "    <tr>\n",
       "      <th>6</th>\n",
       "      <td>7</td>\n",
       "      <td>Amar</td>\n",
       "      <td>BE</td>\n",
       "      <td>65.34</td>\n",
       "      <td>19.0</td>\n",
       "    </tr>\n",
       "    <tr>\n",
       "      <th>7</th>\n",
       "      <td>8</td>\n",
       "      <td>Amita</td>\n",
       "      <td>be</td>\n",
       "      <td>68.33</td>\n",
       "      <td>23.0</td>\n",
       "    </tr>\n",
       "    <tr>\n",
       "      <th>8</th>\n",
       "      <td>9</td>\n",
       "      <td>Amol</td>\n",
       "      <td>TE</td>\n",
       "      <td>56.75</td>\n",
       "      <td>20.0</td>\n",
       "    </tr>\n",
       "    <tr>\n",
       "      <th>12</th>\n",
       "      <td>12</td>\n",
       "      <td>Sujay</td>\n",
       "      <td>TE</td>\n",
       "      <td>74.12</td>\n",
       "      <td>22.0</td>\n",
       "    </tr>\n",
       "    <tr>\n",
       "      <th>13</th>\n",
       "      <td>13</td>\n",
       "      <td>Subhash</td>\n",
       "      <td>be</td>\n",
       "      <td>88.45</td>\n",
       "      <td>21.0</td>\n",
       "    </tr>\n",
       "    <tr>\n",
       "      <th>15</th>\n",
       "      <td>15</td>\n",
       "      <td>Shalini</td>\n",
       "      <td>TE</td>\n",
       "      <td>63.45</td>\n",
       "      <td>20.0</td>\n",
       "    </tr>\n",
       "  </tbody>\n",
       "</table>\n",
       "</div>"
      ],
      "text/plain": [
       "    roll     name class  marks   age\n",
       "0      1     Anil    TE  56.77  22.0\n",
       "1      2     Amit    TE  59.77  21.0\n",
       "2      3   Aniket    BE  76.88  19.0\n",
       "3      4  Ajinkya    TE  69.66  20.0\n",
       "6      7     Amar    BE  65.34  19.0\n",
       "7      8    Amita    be  68.33  23.0\n",
       "8      9     Amol    TE  56.75  20.0\n",
       "12    12    Sujay    TE  74.12  22.0\n",
       "13    13  Subhash    be  88.45  21.0\n",
       "15    15  Shalini    TE  63.45  20.0"
      ]
     },
     "execution_count": 29,
     "metadata": {},
     "output_type": "execute_result"
    }
   ],
   "source": [
    "# 1.drop all rows with missing values\n",
    "df.dropna()"
   ]
  },
  {
   "cell_type": "code",
   "execution_count": 30,
   "id": "5b7592fc",
   "metadata": {},
   "outputs": [
    {
     "data": {
      "text/plain": [
       "0     56.77\n",
       "1     59.77\n",
       "2     76.88\n",
       "3     69.66\n",
       "4     63.28\n",
       "5       NaN\n",
       "6     65.34\n",
       "7     68.33\n",
       "8     56.75\n",
       "10    78.66\n",
       "11      NaN\n",
       "12    74.12\n",
       "13    88.45\n",
       "14    59.33\n",
       "15    63.45\n",
       "Name: marks, dtype: float64"
      ]
     },
     "execution_count": 30,
     "metadata": {},
     "output_type": "execute_result"
    }
   ],
   "source": [
    "# 2. Manual data entry\n",
    "df['marks']"
   ]
  },
  {
   "cell_type": "code",
   "execution_count": 31,
   "id": "0828236f",
   "metadata": {},
   "outputs": [
    {
     "data": {
      "text/plain": [
       "0     56.77\n",
       "1     59.77\n",
       "2     76.88\n",
       "3     69.66\n",
       "4     63.28\n",
       "5     50.00\n",
       "6     65.34\n",
       "7     68.33\n",
       "8     56.75\n",
       "10    78.66\n",
       "11    50.00\n",
       "12    74.12\n",
       "13    88.45\n",
       "14    59.33\n",
       "15    63.45\n",
       "Name: marks, dtype: float64"
      ]
     },
     "execution_count": 31,
     "metadata": {},
     "output_type": "execute_result"
    }
   ],
   "source": [
    "df['marks'].fillna(50)"
   ]
  },
  {
   "cell_type": "code",
   "execution_count": 32,
   "id": "f3fbb6be",
   "metadata": {},
   "outputs": [
    {
     "data": {
      "text/plain": [
       "0     22.0\n",
       "1     21.0\n",
       "2     19.0\n",
       "3     20.0\n",
       "4      NaN\n",
       "5     20.0\n",
       "6     19.0\n",
       "7     23.0\n",
       "8     20.0\n",
       "10     NaN\n",
       "11    23.0\n",
       "12    22.0\n",
       "13    21.0\n",
       "14    21.0\n",
       "15    20.0\n",
       "Name: age, dtype: float64"
      ]
     },
     "execution_count": 32,
     "metadata": {},
     "output_type": "execute_result"
    }
   ],
   "source": [
    "df['age']"
   ]
  },
  {
   "cell_type": "code",
   "execution_count": 33,
   "id": "fcb9b2b8",
   "metadata": {},
   "outputs": [
    {
     "data": {
      "text/plain": [
       "0     22.0\n",
       "1     21.0\n",
       "2     19.0\n",
       "3     20.0\n",
       "4     20.0\n",
       "5     20.0\n",
       "6     19.0\n",
       "7     23.0\n",
       "8     20.0\n",
       "10    20.0\n",
       "11    23.0\n",
       "12    22.0\n",
       "13    21.0\n",
       "14    21.0\n",
       "15    20.0\n",
       "Name: age, dtype: float64"
      ]
     },
     "execution_count": 33,
     "metadata": {},
     "output_type": "execute_result"
    }
   ],
   "source": [
    "df['age'].fillna(20)"
   ]
  },
  {
   "cell_type": "code",
   "execution_count": 34,
   "id": "e943c560",
   "metadata": {},
   "outputs": [
    {
     "data": {
      "text/plain": [
       "67.75307692307693"
      ]
     },
     "execution_count": 34,
     "metadata": {},
     "output_type": "execute_result"
    }
   ],
   "source": [
    "# 3. Mean/Median/Mode of remaining values\n",
    "df['marks'].mean()"
   ]
  },
  {
   "cell_type": "code",
   "execution_count": 35,
   "id": "481742d2",
   "metadata": {},
   "outputs": [
    {
     "data": {
      "text/plain": [
       "0     56.770000\n",
       "1     59.770000\n",
       "2     76.880000\n",
       "3     69.660000\n",
       "4     63.280000\n",
       "5     67.753077\n",
       "6     65.340000\n",
       "7     68.330000\n",
       "8     56.750000\n",
       "10    78.660000\n",
       "11    67.753077\n",
       "12    74.120000\n",
       "13    88.450000\n",
       "14    59.330000\n",
       "15    63.450000\n",
       "Name: marks, dtype: float64"
      ]
     },
     "execution_count": 35,
     "metadata": {},
     "output_type": "execute_result"
    }
   ],
   "source": [
    "df['marks'].fillna(df['marks'].mean())"
   ]
  },
  {
   "cell_type": "code",
   "execution_count": 36,
   "id": "07ad1c5e",
   "metadata": {},
   "outputs": [
    {
     "data": {
      "text/plain": [
       "67.75307692307693"
      ]
     },
     "execution_count": 36,
     "metadata": {},
     "output_type": "execute_result"
    }
   ],
   "source": [
    "df['marks'].fillna(df['marks']).mean()"
   ]
  },
  {
   "cell_type": "code",
   "execution_count": 37,
   "id": "9cf4d886",
   "metadata": {},
   "outputs": [
    {
     "data": {
      "text/plain": [
       "0     22.0\n",
       "1     21.0\n",
       "2     19.0\n",
       "3     20.0\n",
       "4      NaN\n",
       "5     20.0\n",
       "6     19.0\n",
       "7     23.0\n",
       "8     20.0\n",
       "10     NaN\n",
       "11    23.0\n",
       "12    22.0\n",
       "13    21.0\n",
       "14    21.0\n",
       "15    20.0\n",
       "Name: age, dtype: float64"
      ]
     },
     "execution_count": 37,
     "metadata": {},
     "output_type": "execute_result"
    }
   ],
   "source": [
    "df['age']"
   ]
  },
  {
   "cell_type": "code",
   "execution_count": 38,
   "id": "5c61ca82",
   "metadata": {},
   "outputs": [
    {
     "data": {
      "text/plain": [
       "21.0"
      ]
     },
     "execution_count": 38,
     "metadata": {},
     "output_type": "execute_result"
    }
   ],
   "source": [
    "df['age'].median()"
   ]
  },
  {
   "cell_type": "code",
   "execution_count": 39,
   "id": "166ff74c",
   "metadata": {},
   "outputs": [
    {
     "data": {
      "text/plain": [
       "0     22.0\n",
       "1     21.0\n",
       "2     19.0\n",
       "3     20.0\n",
       "4     21.0\n",
       "5     20.0\n",
       "6     19.0\n",
       "7     23.0\n",
       "8     20.0\n",
       "10    21.0\n",
       "11    23.0\n",
       "12    22.0\n",
       "13    21.0\n",
       "14    21.0\n",
       "15    20.0\n",
       "Name: age, dtype: float64"
      ]
     },
     "execution_count": 39,
     "metadata": {},
     "output_type": "execute_result"
    }
   ],
   "source": [
    "df['age'].fillna(df['age'].median())"
   ]
  },
  {
   "cell_type": "code",
   "execution_count": 40,
   "id": "242b6d5a",
   "metadata": {},
   "outputs": [
    {
     "data": {
      "text/plain": [
       "0    TE\n",
       "Name: class, dtype: object"
      ]
     },
     "execution_count": 40,
     "metadata": {},
     "output_type": "execute_result"
    }
   ],
   "source": [
    "df['class'].mode()"
   ]
  },
  {
   "cell_type": "code",
   "execution_count": 41,
   "id": "9800c589",
   "metadata": {},
   "outputs": [
    {
     "data": {
      "text/plain": [
       "'TE'"
      ]
     },
     "execution_count": 41,
     "metadata": {},
     "output_type": "execute_result"
    }
   ],
   "source": [
    "df['class'].mode()[0]"
   ]
  },
  {
   "cell_type": "code",
   "execution_count": 42,
   "id": "37761079",
   "metadata": {},
   "outputs": [
    {
     "data": {
      "text/plain": [
       "0     TE\n",
       "1     TE\n",
       "2     BE\n",
       "3     TE\n",
       "4     TE\n",
       "5     BE\n",
       "6     BE\n",
       "7     be\n",
       "8     TE\n",
       "10    BE\n",
       "11    TE\n",
       "12    TE\n",
       "13    be\n",
       "14    TE\n",
       "15    TE\n",
       "Name: class, dtype: object"
      ]
     },
     "execution_count": 42,
     "metadata": {},
     "output_type": "execute_result"
    }
   ],
   "source": [
    "df['class'].fillna(df['class'].mode()[0])"
   ]
  },
  {
   "cell_type": "code",
   "execution_count": 43,
   "id": "3d8ef6fa",
   "metadata": {},
   "outputs": [
    {
     "data": {
      "text/html": [
       "<div>\n",
       "<style scoped>\n",
       "    .dataframe tbody tr th:only-of-type {\n",
       "        vertical-align: middle;\n",
       "    }\n",
       "\n",
       "    .dataframe tbody tr th {\n",
       "        vertical-align: top;\n",
       "    }\n",
       "\n",
       "    .dataframe thead th {\n",
       "        text-align: right;\n",
       "    }\n",
       "</style>\n",
       "<table border=\"1\" class=\"dataframe\">\n",
       "  <thead>\n",
       "    <tr style=\"text-align: right;\">\n",
       "      <th></th>\n",
       "      <th>roll</th>\n",
       "      <th>name</th>\n",
       "      <th>class</th>\n",
       "      <th>marks</th>\n",
       "      <th>age</th>\n",
       "    </tr>\n",
       "  </thead>\n",
       "  <tbody>\n",
       "    <tr>\n",
       "      <th>0</th>\n",
       "      <td>1</td>\n",
       "      <td>Anil</td>\n",
       "      <td>TE</td>\n",
       "      <td>56.77</td>\n",
       "      <td>22.0</td>\n",
       "    </tr>\n",
       "    <tr>\n",
       "      <th>1</th>\n",
       "      <td>2</td>\n",
       "      <td>Amit</td>\n",
       "      <td>TE</td>\n",
       "      <td>59.77</td>\n",
       "      <td>21.0</td>\n",
       "    </tr>\n",
       "    <tr>\n",
       "      <th>2</th>\n",
       "      <td>3</td>\n",
       "      <td>Aniket</td>\n",
       "      <td>BE</td>\n",
       "      <td>76.88</td>\n",
       "      <td>19.0</td>\n",
       "    </tr>\n",
       "    <tr>\n",
       "      <th>3</th>\n",
       "      <td>4</td>\n",
       "      <td>Ajinkya</td>\n",
       "      <td>TE</td>\n",
       "      <td>69.66</td>\n",
       "      <td>20.0</td>\n",
       "    </tr>\n",
       "    <tr>\n",
       "      <th>4</th>\n",
       "      <td>5</td>\n",
       "      <td>Asha</td>\n",
       "      <td>TE</td>\n",
       "      <td>63.28</td>\n",
       "      <td>20.0</td>\n",
       "    </tr>\n",
       "    <tr>\n",
       "      <th>5</th>\n",
       "      <td>6</td>\n",
       "      <td>Ayesha</td>\n",
       "      <td>BE</td>\n",
       "      <td>63.28</td>\n",
       "      <td>20.0</td>\n",
       "    </tr>\n",
       "    <tr>\n",
       "      <th>6</th>\n",
       "      <td>7</td>\n",
       "      <td>Amar</td>\n",
       "      <td>BE</td>\n",
       "      <td>65.34</td>\n",
       "      <td>19.0</td>\n",
       "    </tr>\n",
       "    <tr>\n",
       "      <th>7</th>\n",
       "      <td>8</td>\n",
       "      <td>Amita</td>\n",
       "      <td>be</td>\n",
       "      <td>68.33</td>\n",
       "      <td>23.0</td>\n",
       "    </tr>\n",
       "    <tr>\n",
       "      <th>8</th>\n",
       "      <td>9</td>\n",
       "      <td>Amol</td>\n",
       "      <td>TE</td>\n",
       "      <td>56.75</td>\n",
       "      <td>20.0</td>\n",
       "    </tr>\n",
       "    <tr>\n",
       "      <th>10</th>\n",
       "      <td>10</td>\n",
       "      <td>Anmol</td>\n",
       "      <td>BE</td>\n",
       "      <td>78.66</td>\n",
       "      <td>20.0</td>\n",
       "    </tr>\n",
       "    <tr>\n",
       "      <th>11</th>\n",
       "      <td>11</td>\n",
       "      <td>Surbhi</td>\n",
       "      <td>TE</td>\n",
       "      <td>78.66</td>\n",
       "      <td>23.0</td>\n",
       "    </tr>\n",
       "    <tr>\n",
       "      <th>12</th>\n",
       "      <td>12</td>\n",
       "      <td>Sujay</td>\n",
       "      <td>TE</td>\n",
       "      <td>74.12</td>\n",
       "      <td>22.0</td>\n",
       "    </tr>\n",
       "    <tr>\n",
       "      <th>13</th>\n",
       "      <td>13</td>\n",
       "      <td>Subhash</td>\n",
       "      <td>be</td>\n",
       "      <td>88.45</td>\n",
       "      <td>21.0</td>\n",
       "    </tr>\n",
       "    <tr>\n",
       "      <th>14</th>\n",
       "      <td>14</td>\n",
       "      <td>Sachin</td>\n",
       "      <td>be</td>\n",
       "      <td>59.33</td>\n",
       "      <td>21.0</td>\n",
       "    </tr>\n",
       "    <tr>\n",
       "      <th>15</th>\n",
       "      <td>15</td>\n",
       "      <td>Shalini</td>\n",
       "      <td>TE</td>\n",
       "      <td>63.45</td>\n",
       "      <td>20.0</td>\n",
       "    </tr>\n",
       "  </tbody>\n",
       "</table>\n",
       "</div>"
      ],
      "text/plain": [
       "    roll     name class  marks   age\n",
       "0      1     Anil    TE  56.77  22.0\n",
       "1      2     Amit    TE  59.77  21.0\n",
       "2      3   Aniket    BE  76.88  19.0\n",
       "3      4  Ajinkya    TE  69.66  20.0\n",
       "4      5     Asha    TE  63.28  20.0\n",
       "5      6   Ayesha    BE  63.28  20.0\n",
       "6      7     Amar    BE  65.34  19.0\n",
       "7      8    Amita    be  68.33  23.0\n",
       "8      9     Amol    TE  56.75  20.0\n",
       "10    10    Anmol    BE  78.66  20.0\n",
       "11    11   Surbhi    TE  78.66  23.0\n",
       "12    12    Sujay    TE  74.12  22.0\n",
       "13    13  Subhash    be  88.45  21.0\n",
       "14    14   Sachin    be  59.33  21.0\n",
       "15    15  Shalini    TE  63.45  20.0"
      ]
     },
     "execution_count": 43,
     "metadata": {},
     "output_type": "execute_result"
    }
   ],
   "source": [
    "# 4.\n",
    "df.ffill()"
   ]
  },
  {
   "cell_type": "code",
   "execution_count": 44,
   "id": "2731b006",
   "metadata": {},
   "outputs": [
    {
     "data": {
      "text/html": [
       "<div>\n",
       "<style scoped>\n",
       "    .dataframe tbody tr th:only-of-type {\n",
       "        vertical-align: middle;\n",
       "    }\n",
       "\n",
       "    .dataframe tbody tr th {\n",
       "        vertical-align: top;\n",
       "    }\n",
       "\n",
       "    .dataframe thead th {\n",
       "        text-align: right;\n",
       "    }\n",
       "</style>\n",
       "<table border=\"1\" class=\"dataframe\">\n",
       "  <thead>\n",
       "    <tr style=\"text-align: right;\">\n",
       "      <th></th>\n",
       "      <th>roll</th>\n",
       "      <th>name</th>\n",
       "      <th>class</th>\n",
       "      <th>marks</th>\n",
       "      <th>age</th>\n",
       "    </tr>\n",
       "  </thead>\n",
       "  <tbody>\n",
       "    <tr>\n",
       "      <th>0</th>\n",
       "      <td>1</td>\n",
       "      <td>Anil</td>\n",
       "      <td>TE</td>\n",
       "      <td>56.77</td>\n",
       "      <td>22.0</td>\n",
       "    </tr>\n",
       "    <tr>\n",
       "      <th>1</th>\n",
       "      <td>2</td>\n",
       "      <td>Amit</td>\n",
       "      <td>TE</td>\n",
       "      <td>59.77</td>\n",
       "      <td>21.0</td>\n",
       "    </tr>\n",
       "    <tr>\n",
       "      <th>2</th>\n",
       "      <td>3</td>\n",
       "      <td>Aniket</td>\n",
       "      <td>BE</td>\n",
       "      <td>76.88</td>\n",
       "      <td>19.0</td>\n",
       "    </tr>\n",
       "    <tr>\n",
       "      <th>3</th>\n",
       "      <td>4</td>\n",
       "      <td>Ajinkya</td>\n",
       "      <td>TE</td>\n",
       "      <td>69.66</td>\n",
       "      <td>20.0</td>\n",
       "    </tr>\n",
       "    <tr>\n",
       "      <th>4</th>\n",
       "      <td>5</td>\n",
       "      <td>Asha</td>\n",
       "      <td>TE</td>\n",
       "      <td>63.28</td>\n",
       "      <td>20.0</td>\n",
       "    </tr>\n",
       "    <tr>\n",
       "      <th>5</th>\n",
       "      <td>6</td>\n",
       "      <td>Ayesha</td>\n",
       "      <td>BE</td>\n",
       "      <td>65.34</td>\n",
       "      <td>20.0</td>\n",
       "    </tr>\n",
       "    <tr>\n",
       "      <th>6</th>\n",
       "      <td>7</td>\n",
       "      <td>Amar</td>\n",
       "      <td>BE</td>\n",
       "      <td>65.34</td>\n",
       "      <td>19.0</td>\n",
       "    </tr>\n",
       "    <tr>\n",
       "      <th>7</th>\n",
       "      <td>8</td>\n",
       "      <td>Amita</td>\n",
       "      <td>be</td>\n",
       "      <td>68.33</td>\n",
       "      <td>23.0</td>\n",
       "    </tr>\n",
       "    <tr>\n",
       "      <th>8</th>\n",
       "      <td>9</td>\n",
       "      <td>Amol</td>\n",
       "      <td>TE</td>\n",
       "      <td>56.75</td>\n",
       "      <td>20.0</td>\n",
       "    </tr>\n",
       "    <tr>\n",
       "      <th>10</th>\n",
       "      <td>10</td>\n",
       "      <td>Anmol</td>\n",
       "      <td>BE</td>\n",
       "      <td>78.66</td>\n",
       "      <td>23.0</td>\n",
       "    </tr>\n",
       "    <tr>\n",
       "      <th>11</th>\n",
       "      <td>11</td>\n",
       "      <td>Surbhi</td>\n",
       "      <td>TE</td>\n",
       "      <td>74.12</td>\n",
       "      <td>23.0</td>\n",
       "    </tr>\n",
       "    <tr>\n",
       "      <th>12</th>\n",
       "      <td>12</td>\n",
       "      <td>Sujay</td>\n",
       "      <td>TE</td>\n",
       "      <td>74.12</td>\n",
       "      <td>22.0</td>\n",
       "    </tr>\n",
       "    <tr>\n",
       "      <th>13</th>\n",
       "      <td>13</td>\n",
       "      <td>Subhash</td>\n",
       "      <td>be</td>\n",
       "      <td>88.45</td>\n",
       "      <td>21.0</td>\n",
       "    </tr>\n",
       "    <tr>\n",
       "      <th>14</th>\n",
       "      <td>14</td>\n",
       "      <td>Sachin</td>\n",
       "      <td>TE</td>\n",
       "      <td>59.33</td>\n",
       "      <td>21.0</td>\n",
       "    </tr>\n",
       "    <tr>\n",
       "      <th>15</th>\n",
       "      <td>15</td>\n",
       "      <td>Shalini</td>\n",
       "      <td>TE</td>\n",
       "      <td>63.45</td>\n",
       "      <td>20.0</td>\n",
       "    </tr>\n",
       "  </tbody>\n",
       "</table>\n",
       "</div>"
      ],
      "text/plain": [
       "    roll     name class  marks   age\n",
       "0      1     Anil    TE  56.77  22.0\n",
       "1      2     Amit    TE  59.77  21.0\n",
       "2      3   Aniket    BE  76.88  19.0\n",
       "3      4  Ajinkya    TE  69.66  20.0\n",
       "4      5     Asha    TE  63.28  20.0\n",
       "5      6   Ayesha    BE  65.34  20.0\n",
       "6      7     Amar    BE  65.34  19.0\n",
       "7      8    Amita    be  68.33  23.0\n",
       "8      9     Amol    TE  56.75  20.0\n",
       "10    10    Anmol    BE  78.66  23.0\n",
       "11    11   Surbhi    TE  74.12  23.0\n",
       "12    12    Sujay    TE  74.12  22.0\n",
       "13    13  Subhash    be  88.45  21.0\n",
       "14    14   Sachin    TE  59.33  21.0\n",
       "15    15  Shalini    TE  63.45  20.0"
      ]
     },
     "execution_count": 44,
     "metadata": {},
     "output_type": "execute_result"
    }
   ],
   "source": [
    "df.bfill(inplace=True)#inplace=True -> data set will be change\n",
    "df"
   ]
  },
  {
   "cell_type": "markdown",
   "id": "1d614962",
   "metadata": {},
   "source": [
    "# Outlier Detection"
   ]
  },
  {
   "cell_type": "raw",
   "id": "a23b9511",
   "metadata": {},
   "source": [
    "outlier does not follow flow of other \n",
    "outlier is expection"
   ]
  },
  {
   "cell_type": "code",
   "execution_count": 45,
   "id": "3bd8bd27",
   "metadata": {},
   "outputs": [],
   "source": [
    "# np.random.randint(1,100,100)"
   ]
  },
  {
   "cell_type": "code",
   "execution_count": 46,
   "id": "70f03875",
   "metadata": {},
   "outputs": [
    {
     "data": {
      "text/plain": [
       "4"
      ]
     },
     "execution_count": 46,
     "metadata": {},
     "output_type": "execute_result"
    }
   ],
   "source": [
    " np.random.randint(1,100)"
   ]
  },
  {
   "cell_type": "code",
   "execution_count": 47,
   "id": "8dfc8bf5",
   "metadata": {},
   "outputs": [],
   "source": [
    "sal = []\n",
    "for i in range(100):\n",
    "    num = np.random.randint(20000,35000)\n",
    "    sal.append(num)"
   ]
  },
  {
   "cell_type": "code",
   "execution_count": 48,
   "id": "40f59b2b",
   "metadata": {},
   "outputs": [
    {
     "data": {
      "text/plain": [
       "[24995,\n",
       " 22765,\n",
       " 23269,\n",
       " 29850,\n",
       " 33509,\n",
       " 34005,\n",
       " 32083,\n",
       " 29690,\n",
       " 30410,\n",
       " 32348,\n",
       " 22578,\n",
       " 22161,\n",
       " 34951,\n",
       " 31523,\n",
       " 23827,\n",
       " 22700,\n",
       " 32982,\n",
       " 21667,\n",
       " 30427,\n",
       " 28030,\n",
       " 32600,\n",
       " 32239,\n",
       " 28624,\n",
       " 32182,\n",
       " 20759,\n",
       " 32940,\n",
       " 30062,\n",
       " 25213,\n",
       " 22604,\n",
       " 22131,\n",
       " 32279,\n",
       " 34857,\n",
       " 34264,\n",
       " 26564,\n",
       " 25137,\n",
       " 23691,\n",
       " 31827,\n",
       " 24940,\n",
       " 26797,\n",
       " 23686,\n",
       " 32372,\n",
       " 34801,\n",
       " 30738,\n",
       " 22781,\n",
       " 24986,\n",
       " 20111,\n",
       " 27880,\n",
       " 34657,\n",
       " 26989,\n",
       " 30185,\n",
       " 20284,\n",
       " 26125,\n",
       " 22876,\n",
       " 28485,\n",
       " 26568,\n",
       " 28226,\n",
       " 20372,\n",
       " 26824,\n",
       " 27453,\n",
       " 31862,\n",
       " 23169,\n",
       " 29817,\n",
       " 30826,\n",
       " 32721,\n",
       " 21138,\n",
       " 22881,\n",
       " 34472,\n",
       " 30414,\n",
       " 30296,\n",
       " 20883,\n",
       " 32891,\n",
       " 29232,\n",
       " 33898,\n",
       " 23389,\n",
       " 33791,\n",
       " 26942,\n",
       " 20727,\n",
       " 26497,\n",
       " 34661,\n",
       " 31425,\n",
       " 20648,\n",
       " 33570,\n",
       " 29793,\n",
       " 29706,\n",
       " 30044,\n",
       " 24995,\n",
       " 29817,\n",
       " 20372,\n",
       " 28864,\n",
       " 23420,\n",
       " 29853,\n",
       " 30401,\n",
       " 26538,\n",
       " 20333,\n",
       " 21421,\n",
       " 32866,\n",
       " 32408,\n",
       " 28214,\n",
       " 21731,\n",
       " 22488]"
      ]
     },
     "execution_count": 48,
     "metadata": {},
     "output_type": "execute_result"
    }
   ],
   "source": [
    "sal"
   ]
  },
  {
   "cell_type": "code",
   "execution_count": 49,
   "id": "58b7ae74",
   "metadata": {},
   "outputs": [],
   "source": [
    "df=pd.DataFrame({'salary':sal})"
   ]
  },
  {
   "cell_type": "code",
   "execution_count": 50,
   "id": "f64d1db7",
   "metadata": {},
   "outputs": [
    {
     "data": {
      "text/plain": [
       "(100, 1)"
      ]
     },
     "execution_count": 50,
     "metadata": {},
     "output_type": "execute_result"
    }
   ],
   "source": [
    "df.shape"
   ]
  },
  {
   "cell_type": "code",
   "execution_count": 51,
   "id": "c8cb941e",
   "metadata": {},
   "outputs": [],
   "source": [
    "df.iloc[23,:]=44000"
   ]
  },
  {
   "cell_type": "code",
   "execution_count": 52,
   "id": "0f822923",
   "metadata": {},
   "outputs": [],
   "source": [
    "df.iloc[81,:]=47000"
   ]
  },
  {
   "cell_type": "code",
   "execution_count": 53,
   "id": "67edb956",
   "metadata": {},
   "outputs": [
    {
     "data": {
      "text/html": [
       "<div>\n",
       "<style scoped>\n",
       "    .dataframe tbody tr th:only-of-type {\n",
       "        vertical-align: middle;\n",
       "    }\n",
       "\n",
       "    .dataframe tbody tr th {\n",
       "        vertical-align: top;\n",
       "    }\n",
       "\n",
       "    .dataframe thead th {\n",
       "        text-align: right;\n",
       "    }\n",
       "</style>\n",
       "<table border=\"1\" class=\"dataframe\">\n",
       "  <thead>\n",
       "    <tr style=\"text-align: right;\">\n",
       "      <th></th>\n",
       "      <th>salary</th>\n",
       "    </tr>\n",
       "  </thead>\n",
       "  <tbody>\n",
       "    <tr>\n",
       "      <th>0</th>\n",
       "      <td>24995</td>\n",
       "    </tr>\n",
       "    <tr>\n",
       "      <th>1</th>\n",
       "      <td>22765</td>\n",
       "    </tr>\n",
       "    <tr>\n",
       "      <th>2</th>\n",
       "      <td>23269</td>\n",
       "    </tr>\n",
       "    <tr>\n",
       "      <th>3</th>\n",
       "      <td>29850</td>\n",
       "    </tr>\n",
       "    <tr>\n",
       "      <th>4</th>\n",
       "      <td>33509</td>\n",
       "    </tr>\n",
       "    <tr>\n",
       "      <th>...</th>\n",
       "      <td>...</td>\n",
       "    </tr>\n",
       "    <tr>\n",
       "      <th>95</th>\n",
       "      <td>32866</td>\n",
       "    </tr>\n",
       "    <tr>\n",
       "      <th>96</th>\n",
       "      <td>32408</td>\n",
       "    </tr>\n",
       "    <tr>\n",
       "      <th>97</th>\n",
       "      <td>28214</td>\n",
       "    </tr>\n",
       "    <tr>\n",
       "      <th>98</th>\n",
       "      <td>21731</td>\n",
       "    </tr>\n",
       "    <tr>\n",
       "      <th>99</th>\n",
       "      <td>22488</td>\n",
       "    </tr>\n",
       "  </tbody>\n",
       "</table>\n",
       "<p>100 rows × 1 columns</p>\n",
       "</div>"
      ],
      "text/plain": [
       "    salary\n",
       "0    24995\n",
       "1    22765\n",
       "2    23269\n",
       "3    29850\n",
       "4    33509\n",
       "..     ...\n",
       "95   32866\n",
       "96   32408\n",
       "97   28214\n",
       "98   21731\n",
       "99   22488\n",
       "\n",
       "[100 rows x 1 columns]"
      ]
     },
     "execution_count": 53,
     "metadata": {},
     "output_type": "execute_result"
    }
   ],
   "source": [
    "df"
   ]
  },
  {
   "cell_type": "code",
   "execution_count": 54,
   "id": "b6612616",
   "metadata": {},
   "outputs": [],
   "source": [
    "import matplotlib.pyplot as plt"
   ]
  },
  {
   "cell_type": "code",
   "execution_count": 55,
   "id": "4060e408",
   "metadata": {},
   "outputs": [
    {
     "data": {
      "image/png": "[encoded data removed]",
      "text/plain": [
       "<Figure size 640x480 with 1 Axes>"
      ]
     },
     "metadata": {},
     "output_type": "display_data"
    }
   ],
   "source": [
    "plt.boxplot(df);\n",
    "    "
   ]
  },
  {
   "cell_type": "code",
   "execution_count": 56,
   "id": "23c7f31c",
   "metadata": {},
   "outputs": [
    {
     "data": {
      "text/plain": [
       "<AxesSubplot:>"
      ]
     },
     "execution_count": 56,
     "metadata": {},
     "output_type": "execute_result"
    },
    {
     "data": {
      "image/png": "[encoded data removed]",
      "text/plain": [
       "<Figure size 640x480 with 1 Axes>"
      ]
     },
     "metadata": {},
     "output_type": "display_data"
    }
   ],
   "source": [
    "df.plot.box()"
   ]
  },
  {
   "cell_type": "code",
   "execution_count": 57,
   "id": "cc073f97",
   "metadata": {},
   "outputs": [],
   "source": [
    "newdf=df[df['salary']<40000]"
   ]
  },
  {
   "cell_type": "code",
   "execution_count": 58,
   "id": "c7e86fab",
   "metadata": {},
   "outputs": [
    {
     "data": {
      "text/plain": [
       "(98, 1)"
      ]
     },
     "execution_count": 58,
     "metadata": {},
     "output_type": "execute_result"
    }
   ],
   "source": [
    "newdf.shape"
   ]
  },
  {
   "cell_type": "code",
   "execution_count": 59,
   "id": "a803c765",
   "metadata": {},
   "outputs": [
    {
     "data": {
      "text/plain": [
       "<AxesSubplot:ylabel='Frequency'>"
      ]
     },
     "execution_count": 59,
     "metadata": {},
     "output_type": "execute_result"
    },
    {
     "data": {
      "image/png": "[encoded data removed]",
      "text/plain": [
       "<Figure size 640x480 with 1 Axes>"
      ]
     },
     "metadata": {},
     "output_type": "display_data"
    }
   ],
   "source": [
    "df.plot.hist()"
   ]
  },
  {
   "cell_type": "code",
   "execution_count": 60,
   "id": "759fb14d",
   "metadata": {},
   "outputs": [
    {
     "data": {
      "text/plain": [
       "<AxesSubplot:>"
      ]
     },
     "execution_count": 60,
     "metadata": {},
     "output_type": "execute_result"
    },
    {
     "data": {
      "image/png": "[encoded data removed]",
      "text/plain": [
       "<Figure size 640x480 with 1 Axes>"
      ]
     },
     "metadata": {},
     "output_type": "display_data"
    }
   ],
   "source": [
    "df.plot.line()"
   ]
  },
  {
   "cell_type": "markdown",
   "id": "1dc801d9",
   "metadata": {},
   "source": [
    "# Turkey's Fences"
   ]
  },
  {
   "cell_type": "raw",
   "id": "bb81c85c",
   "metadata": {},
   "source": [
    "Upper fence = Q3+1.5*IQR"
   ]
  },
  {
   "cell_type": "code",
   "execution_count": 61,
   "id": "014e1778",
   "metadata": {},
   "outputs": [
    {
     "data": {
      "text/html": [
       "<div>\n",
       "<style scoped>\n",
       "    .dataframe tbody tr th:only-of-type {\n",
       "        vertical-align: middle;\n",
       "    }\n",
       "\n",
       "    .dataframe tbody tr th {\n",
       "        vertical-align: top;\n",
       "    }\n",
       "\n",
       "    .dataframe thead th {\n",
       "        text-align: right;\n",
       "    }\n",
       "</style>\n",
       "<table border=\"1\" class=\"dataframe\">\n",
       "  <thead>\n",
       "    <tr style=\"text-align: right;\">\n",
       "      <th></th>\n",
       "      <th>salary</th>\n",
       "    </tr>\n",
       "  </thead>\n",
       "  <tbody>\n",
       "    <tr>\n",
       "      <th>count</th>\n",
       "      <td>100.000000</td>\n",
       "    </tr>\n",
       "    <tr>\n",
       "      <th>mean</th>\n",
       "      <td>28045.410000</td>\n",
       "    </tr>\n",
       "    <tr>\n",
       "      <th>std</th>\n",
       "      <td>5155.827614</td>\n",
       "    </tr>\n",
       "    <tr>\n",
       "      <th>min</th>\n",
       "      <td>20111.000000</td>\n",
       "    </tr>\n",
       "    <tr>\n",
       "      <th>25%</th>\n",
       "      <td>23359.000000</td>\n",
       "    </tr>\n",
       "    <tr>\n",
       "      <th>50%</th>\n",
       "      <td>28355.500000</td>\n",
       "    </tr>\n",
       "    <tr>\n",
       "      <th>75%</th>\n",
       "      <td>31917.250000</td>\n",
       "    </tr>\n",
       "    <tr>\n",
       "      <th>max</th>\n",
       "      <td>47000.000000</td>\n",
       "    </tr>\n",
       "  </tbody>\n",
       "</table>\n",
       "</div>"
      ],
      "text/plain": [
       "             salary\n",
       "count    100.000000\n",
       "mean   28045.410000\n",
       "std     5155.827614\n",
       "min    20111.000000\n",
       "25%    23359.000000\n",
       "50%    28355.500000\n",
       "75%    31917.250000\n",
       "max    47000.000000"
      ]
     },
     "execution_count": 61,
     "metadata": {},
     "output_type": "execute_result"
    }
   ],
   "source": [
    "df.describe()"
   ]
  },
  {
   "cell_type": "code",
   "execution_count": 62,
   "id": "fc4ecfb4",
   "metadata": {},
   "outputs": [],
   "source": [
    "Q1 = np.percentile(df['salary'],25)\n",
    "Q3 = np.percentile(df['salary'],75)"
   ]
  },
  {
   "cell_type": "code",
   "execution_count": 63,
   "id": "6f3a47e4",
   "metadata": {},
   "outputs": [
    {
     "data": {
      "text/plain": [
       "23359.0"
      ]
     },
     "execution_count": 63,
     "metadata": {},
     "output_type": "execute_result"
    }
   ],
   "source": [
    "Q1"
   ]
  },
  {
   "cell_type": "code",
   "execution_count": 64,
   "id": "1adb37ee",
   "metadata": {},
   "outputs": [
    {
     "data": {
      "text/plain": [
       "31917.25"
      ]
     },
     "execution_count": 64,
     "metadata": {},
     "output_type": "execute_result"
    }
   ],
   "source": [
    "Q3"
   ]
  },
  {
   "cell_type": "code",
   "execution_count": 65,
   "id": "46fd013a",
   "metadata": {},
   "outputs": [],
   "source": [
    "IQR = Q3 - Q1"
   ]
  },
  {
   "cell_type": "code",
   "execution_count": 66,
   "id": "8b70d8e9",
   "metadata": {},
   "outputs": [],
   "source": [
    "upper_fence = Q3 +IQR * 1.5\n",
    "lower_fence = Q1 -IQR * 1.5"
   ]
  },
  {
   "cell_type": "code",
   "execution_count": 67,
   "id": "bbec212f",
   "metadata": {},
   "outputs": [
    {
     "data": {
      "text/plain": [
       "(44754.625, 10521.625)"
      ]
     },
     "execution_count": 67,
     "metadata": {},
     "output_type": "execute_result"
    }
   ],
   "source": [
    "upper_fence , lower_fence "
   ]
  },
  {
   "cell_type": "code",
   "execution_count": 68,
   "id": "b51118a4",
   "metadata": {},
   "outputs": [],
   "source": [
    "ndf=df[(df['salary']<upper_fence)&(df['salary']>lower_fence)]"
   ]
  },
  {
   "cell_type": "code",
   "execution_count": 69,
   "id": "523bc491",
   "metadata": {},
   "outputs": [
    {
     "data": {
      "text/plain": [
       "(99, 1)"
      ]
     },
     "execution_count": 69,
     "metadata": {},
     "output_type": "execute_result"
    }
   ],
   "source": [
    "ndf.shape"
   ]
  },
  {
   "cell_type": "code",
   "execution_count": null,
   "id": "04b067f7",
   "metadata": {},
   "outputs": [],
   "source": []
  }
 ],
 "metadata": {
  "kernelspec": {
   "display_name": "Python 3 (ipykernel)",
   "language": "python",
   "name": "python3"
  },
  "language_info": {
   "codemirror_mode": {
    "name": "ipython",
    "version": 3
   },
   "file_extension": ".py",
   "mimetype": "text/x-python",
   "name": "python",
   "nbconvert_exporter": "python",
   "pygments_lexer": "ipython3",
   "version": "3.9.13"
  }
 },
 "nbformat": 4,
 "nbformat_minor": 5
}
